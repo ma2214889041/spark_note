{
 "cells": [
  {
   "cell_type": "code",
   "execution_count": 1,
   "id": "c9f960f6",
   "metadata": {},
   "outputs": [
    {
     "name": "stderr",
     "output_type": "stream",
     "text": [
      "22/05/10 13:57:00 WARN Utils: Your hostname, MaQiang resolves to a loopback address: 127.0.1.1; using 192.168.1.110 instead (on interface wlp2s0)\n",
      "22/05/10 13:57:00 WARN Utils: Set SPARK_LOCAL_IP if you need to bind to another address\n",
      "22/05/10 13:57:00 WARN NativeCodeLoader: Unable to load native-hadoop library for your platform... using builtin-java classes where applicable\n",
      "Using Spark's default log4j profile: org/apache/spark/log4j-defaults.properties\n",
      "Setting default log level to \"WARN\".\n",
      "To adjust logging level use sc.setLogLevel(newLevel). For SparkR, use setLogLevel(newLevel).\n"
     ]
    }
   ],
   "source": [
    "#RDD创建   入口对象\n",
    "from pyspark import SparkConf,SparkContext\n",
    "\n",
    "conf=SparkConf().setAppName('spark2').setMaster('local[*]')\n",
    "\n",
    "sc=SparkContext(conf=conf)"
   ]
  },
  {
   "cell_type": "markdown",
   "id": "d51eb8be-7f4a-43c4-93c9-0642d1d86f1d",
   "metadata": {},
   "source": [
    "## RDD两种创建方式 : 并行化,文件创建"
   ]
  },
  {
   "cell_type": "markdown",
   "id": "0d3f9a96-a694-4abf-85ad-8088801db49e",
   "metadata": {},
   "source": [
    "### parallelize"
   ]
  },
  {
   "cell_type": "code",
   "execution_count": 2,
   "id": "641371a3-bf02-4fd5-9e45-bac82d53f5f6",
   "metadata": {},
   "outputs": [
    {
     "data": {
      "text/plain": [
       "8"
      ]
     },
     "execution_count": 2,
     "metadata": {},
     "output_type": "execute_result"
    }
   ],
   "source": [
    "#并行化创建RDD,默认8 个分区(与CPU有关)\n",
    "rdd =sc.parallelize([1,2,3,4,5,7,8,9,10])\n",
    "\n",
    "#查看分区数\n",
    "rdd.getNumPartitions()"
   ]
  },
  {
   "cell_type": "code",
   "execution_count": 3,
   "id": "f9fda951-6d54-4d50-b9fc-0f5f632b7e81",
   "metadata": {},
   "outputs": [
    {
     "name": "stderr",
     "output_type": "stream",
     "text": [
      "                                                                                \r"
     ]
    },
    {
     "data": {
      "text/plain": [
       "[1, 2, 3, 4, 5, 7, 8, 9, 10]"
      ]
     },
     "execution_count": 3,
     "metadata": {},
     "output_type": "execute_result"
    }
   ],
   "source": [
    "#分布式 转换 为 list\n",
    "rdd.collect()"
   ]
  },
  {
   "cell_type": "markdown",
   "id": "443e31f9-d402-4010-83cc-f43bd611d979",
   "metadata": {},
   "source": [
    "### textFile"
   ]
  },
  {
   "cell_type": "code",
   "execution_count": 4,
   "id": "97317111-8d5e-4268-a4cc-db6f6b8951de",
   "metadata": {},
   "outputs": [],
   "source": [
    "#默认分区数量根文件大小有关\n",
    "rdd=sc.textFile('txt/spark2.txt')"
   ]
  },
  {
   "cell_type": "code",
   "execution_count": 5,
   "id": "eba10bfe-b4bf-4368-aad0-d09a53e3683a",
   "metadata": {},
   "outputs": [
    {
     "data": {
      "text/plain": [
       "2"
      ]
     },
     "execution_count": 5,
     "metadata": {},
     "output_type": "execute_result"
    }
   ],
   "source": [
    "rdd.getNumPartitions()"
   ]
  },
  {
   "cell_type": "code",
   "execution_count": 6,
   "id": "93b70c62-aa6f-428a-8777-d550eaf1090c",
   "metadata": {},
   "outputs": [
    {
     "data": {
      "text/plain": [
       "['hello hello txt txt',\n",
       " 'test test',\n",
       " 'test qiang qiang',\n",
       " 'hello hadoop spark spark']"
      ]
     },
     "execution_count": 6,
     "metadata": {},
     "output_type": "execute_result"
    }
   ],
   "source": [
    "rdd.collect()"
   ]
  },
  {
   "cell_type": "markdown",
   "id": "d04fd32b-dd0a-44de-b6c5-66a579b4c34d",
   "metadata": {},
   "source": [
    "##### 小文件多用 wholeTextFile"
   ]
  },
  {
   "cell_type": "code",
   "execution_count": 7,
   "id": "3a9da935-d8c1-46a8-b98f-cb0152862b4c",
   "metadata": {},
   "outputs": [
    {
     "data": {
      "text/plain": [
       "1"
      ]
     },
     "execution_count": 7,
     "metadata": {},
     "output_type": "execute_result"
    }
   ],
   "source": [
    "rdd = sc.wholeTextFiles(\"txt\")\n",
    "rdd.getNumPartitions()"
   ]
  },
  {
   "cell_type": "code",
   "execution_count": 8,
   "id": "0f8f7629-8703-4809-a1de-2d3bc902088b",
   "metadata": {},
   "outputs": [
    {
     "data": {
      "text/plain": [
       "['maqiang maqiang maqiang',\n",
       " 'hello hello txt txt\\ntest test\\ntest qiang qiang\\nhello hadoop spark spark']"
      ]
     },
     "execution_count": 8,
     "metadata": {},
     "output_type": "execute_result"
    }
   ],
   "source": [
    "rdd.map(lambda x:x[1]).collect()"
   ]
  },
  {
   "cell_type": "markdown",
   "id": "00516c9f-a55e-4e47-9268-acb2f00189cf",
   "metadata": {},
   "source": [
    "## rdd算子有两类: transformation 和 Action \n",
    "##### 返回RDD的是transf\n",
    "##### collection 这种 不返回RDD 是action"
   ]
  },
  {
   "cell_type": "markdown",
   "id": "bcf4bdfa-1e43-467e-8329-16aa4c23c264",
   "metadata": {},
   "source": [
    "### map \n",
    "\n",
    "对每个分区相同的操作"
   ]
  },
  {
   "cell_type": "code",
   "execution_count": 9,
   "id": "37e48ca2-ec66-4367-a065-8f21e77b97e9",
   "metadata": {},
   "outputs": [
    {
     "data": {
      "text/plain": [
       "[101, 102, 103, 104, 105, 106, 178, 109, 100, 223]"
      ]
     },
     "execution_count": 9,
     "metadata": {},
     "output_type": "execute_result"
    }
   ],
   "source": [
    "#传入方法\n",
    "def add(a):\n",
    "    return a+100\n",
    "\n",
    "rdd=sc.parallelize([1,2,3,4,5,6,78,9,0,123]).map(add)\n",
    "rdd.collect()"
   ]
  },
  {
   "cell_type": "code",
   "execution_count": 10,
   "id": "97e3f36c-dddc-4bdc-829d-406de655444f",
   "metadata": {},
   "outputs": [
    {
     "data": {
      "text/plain": [
       "[101, 102, 103, 104, 105, 106, 178, 109, 100, 223]"
      ]
     },
     "execution_count": 10,
     "metadata": {},
     "output_type": "execute_result"
    }
   ],
   "source": [
    "# lambda\n",
    "\n",
    "rdd=sc.parallelize([1,2,3,4,5,6,78,9,0,123]).map(lambda x: x+100)\n",
    "rdd.collect()"
   ]
  },
  {
   "cell_type": "markdown",
   "id": "ce8eb0d7-1f76-4da6-afdb-61f147776cd5",
   "metadata": {},
   "source": [
    "### flatMap\n",
    "list解除子嵌套,然后map"
   ]
  },
  {
   "cell_type": "code",
   "execution_count": 11,
   "id": "9437124d-c66f-4f45-8ec1-2ff0466689db",
   "metadata": {},
   "outputs": [],
   "source": [
    "rdd=sc.textFile('txt/spark2.txt')\n",
    "rdd1=rdd.flatMap(lambda x: x.split(\" \"))"
   ]
  },
  {
   "cell_type": "code",
   "execution_count": 12,
   "id": "3a579df5-0a54-4fff-9457-93739ae311e5",
   "metadata": {},
   "outputs": [
    {
     "data": {
      "text/plain": [
       "['hello',\n",
       " 'hello',\n",
       " 'txt',\n",
       " 'txt',\n",
       " 'test',\n",
       " 'test',\n",
       " 'test',\n",
       " 'qiang',\n",
       " 'qiang',\n",
       " 'hello',\n",
       " 'hadoop',\n",
       " 'spark',\n",
       " 'spark']"
      ]
     },
     "execution_count": 12,
     "metadata": {},
     "output_type": "execute_result"
    }
   ],
   "source": [
    "rdd1.collect()"
   ]
  },
  {
   "cell_type": "markdown",
   "id": "155be686-1c24-4efb-9429-580c66cac005",
   "metadata": {},
   "source": [
    "### reduceByKey\n",
    "根据 key 计算"
   ]
  },
  {
   "cell_type": "code",
   "execution_count": 13,
   "id": "8efaad6e-3101-4531-9c8e-5698c019c205",
   "metadata": {},
   "outputs": [
    {
     "data": {
      "text/plain": [
       "[('test', 3),\n",
       " ('qiang', 2),\n",
       " ('hadoop', 1),\n",
       " ('hello', 3),\n",
       " ('txt', 2),\n",
       " ('spark', 2)]"
      ]
     },
     "execution_count": 13,
     "metadata": {},
     "output_type": "execute_result"
    }
   ],
   "source": [
    "rdd2=rdd1.map(lambda x: (x,1))\n",
    "\n",
    "#累加\n",
    "rdd3=rdd2.reduceByKey(lambda x,y:x+y)\n",
    "rdd3.collect()\n"
   ]
  },
  {
   "cell_type": "markdown",
   "id": "80f1ba90-66b8-4225-b0ac-0f76c993fc38",
   "metadata": {},
   "source": [
    "### mapValues 只针对value操作"
   ]
  },
  {
   "cell_type": "code",
   "execution_count": 14,
   "id": "bc788129-d2dc-4f90-aa77-4591f975df3a",
   "metadata": {},
   "outputs": [
    {
     "data": {
      "text/plain": [
       "[('hello', 10),\n",
       " ('hello', 10),\n",
       " ('txt', 10),\n",
       " ('txt', 10),\n",
       " ('test', 10),\n",
       " ('test', 10),\n",
       " ('test', 10),\n",
       " ('qiang', 10),\n",
       " ('qiang', 10),\n",
       " ('hello', 10),\n",
       " ('hadoop', 10),\n",
       " ('spark', 10),\n",
       " ('spark', 10)]"
      ]
     },
     "execution_count": 14,
     "metadata": {},
     "output_type": "execute_result"
    }
   ],
   "source": [
    "rdd2.map(lambda x:(x[0],x[1]*10)).collect()"
   ]
  },
  {
   "cell_type": "code",
   "execution_count": 15,
   "id": "708af894-d878-49b2-a98c-f5eef5fb7700",
   "metadata": {},
   "outputs": [
    {
     "data": {
      "text/plain": [
       "[('hello', 10),\n",
       " ('hello', 10),\n",
       " ('txt', 10),\n",
       " ('txt', 10),\n",
       " ('test', 10),\n",
       " ('test', 10),\n",
       " ('test', 10),\n",
       " ('qiang', 10),\n",
       " ('qiang', 10),\n",
       " ('hello', 10),\n",
       " ('hadoop', 10),\n",
       " ('spark', 10),\n",
       " ('spark', 10)]"
      ]
     },
     "execution_count": 15,
     "metadata": {},
     "output_type": "execute_result"
    }
   ],
   "source": [
    "#等价\n",
    "rdd2.mapValues(lambda x:x*10).collect()"
   ]
  },
  {
   "cell_type": "markdown",
   "id": "df842054-e45a-40c9-b813-38b617e2833f",
   "metadata": {},
   "source": [
    "## world count"
   ]
  },
  {
   "cell_type": "code",
   "execution_count": 16,
   "id": "14b97f8b-690e-4b3d-96f1-b7652d61df64",
   "metadata": {},
   "outputs": [],
   "source": [
    "rdd=sc.textFile(\"txt/spark2.txt\")\n",
    "rdd1=rdd.flatMap(lambda x: x.split(\" \"))\n",
    "rdd2=rdd1.map(lambda x:(x,1))"
   ]
  },
  {
   "cell_type": "code",
   "execution_count": 17,
   "id": "5b6845ab-3c18-43f1-b4f4-6f15a95df979",
   "metadata": {},
   "outputs": [],
   "source": [
    "rdd3=rdd2.reduceByKey(lambda x,y:x+y)"
   ]
  },
  {
   "cell_type": "code",
   "execution_count": 18,
   "id": "c986cb58-1f21-49e5-b177-e1636048358a",
   "metadata": {},
   "outputs": [
    {
     "data": {
      "text/plain": [
       "[('test', 3),\n",
       " ('qiang', 2),\n",
       " ('hadoop', 1),\n",
       " ('hello', 3),\n",
       " ('txt', 2),\n",
       " ('spark', 2)]"
      ]
     },
     "execution_count": 18,
     "metadata": {},
     "output_type": "execute_result"
    }
   ],
   "source": [
    "rdd3.collect()"
   ]
  },
  {
   "cell_type": "markdown",
   "id": "87ff2e9c-4c49-4aca-a54c-d19432c10b69",
   "metadata": {},
   "source": [
    "### groupBy\n",
    "hash"
   ]
  },
  {
   "cell_type": "code",
   "execution_count": 19,
   "id": "0166b66b-2759-4fb8-81fb-a1c4c1d6c3c5",
   "metadata": {},
   "outputs": [
    {
     "data": {
      "text/plain": [
       "[('hello', 1),\n",
       " ('hello', 1),\n",
       " ('txt', 1),\n",
       " ('txt', 1),\n",
       " ('test', 1),\n",
       " ('test', 1),\n",
       " ('test', 1),\n",
       " ('qiang', 1),\n",
       " ('qiang', 1),\n",
       " ('hello', 1),\n",
       " ('hadoop', 1),\n",
       " ('spark', 1),\n",
       " ('spark', 1)]"
      ]
     },
     "execution_count": 19,
     "metadata": {},
     "output_type": "execute_result"
    }
   ],
   "source": [
    "rdd2.collect()"
   ]
  },
  {
   "cell_type": "code",
   "execution_count": 20,
   "id": "733d71c8-0138-45b5-871c-dd3a9dea670b",
   "metadata": {},
   "outputs": [
    {
     "data": {
      "text/plain": [
       "[('test', <pyspark.resultiterable.ResultIterable at 0x7fb24d2ef2e0>),\n",
       " ('qiang', <pyspark.resultiterable.ResultIterable at 0x7fb24d31d370>),\n",
       " ('hadoop', <pyspark.resultiterable.ResultIterable at 0x7fb24d31d3d0>),\n",
       " ('hello', <pyspark.resultiterable.ResultIterable at 0x7fb24d31d430>),\n",
       " ('txt', <pyspark.resultiterable.ResultIterable at 0x7fb24d31d490>),\n",
       " ('spark', <pyspark.resultiterable.ResultIterable at 0x7fb24d31d250>)]"
      ]
     },
     "execution_count": 20,
     "metadata": {},
     "output_type": "execute_result"
    }
   ],
   "source": [
    "rdd2.groupBy(lambda x:x[0]).collect()"
   ]
  },
  {
   "cell_type": "code",
   "execution_count": 21,
   "id": "d3f7596d-521e-4f01-877b-90cdf819bc0b",
   "metadata": {},
   "outputs": [
    {
     "data": {
      "text/plain": [
       "[('test', [('test', 1), ('test', 1), ('test', 1)]),\n",
       " ('qiang', [('qiang', 1), ('qiang', 1)]),\n",
       " ('hadoop', [('hadoop', 1)]),\n",
       " ('hello', [('hello', 1), ('hello', 1), ('hello', 1)]),\n",
       " ('txt', [('txt', 1), ('txt', 1)]),\n",
       " ('spark', [('spark', 1), ('spark', 1)])]"
      ]
     },
     "execution_count": 21,
     "metadata": {},
     "output_type": "execute_result"
    }
   ],
   "source": [
    "rdd2.groupBy(lambda x:x[0]).map(lambda x: (x[0],list(x[1]))).collect()"
   ]
  },
  {
   "cell_type": "markdown",
   "id": "7aa64b13-5825-4f15-85aa-5ad3f710ee5b",
   "metadata": {},
   "source": [
    "### filter 保留想要的"
   ]
  },
  {
   "cell_type": "code",
   "execution_count": 22,
   "id": "29d5aeed-f4cf-4875-b513-c72255932519",
   "metadata": {},
   "outputs": [
    {
     "data": {
      "text/plain": [
       "[('test', 3),\n",
       " ('qiang', 2),\n",
       " ('hadoop', 1),\n",
       " ('hello', 3),\n",
       " ('txt', 2),\n",
       " ('spark', 2)]"
      ]
     },
     "execution_count": 22,
     "metadata": {},
     "output_type": "execute_result"
    }
   ],
   "source": [
    "rdd3.collect()"
   ]
  },
  {
   "cell_type": "code",
   "execution_count": 23,
   "id": "9c10ed3b-8571-4a34-9786-ae7d53e2fca8",
   "metadata": {},
   "outputs": [
    {
     "data": {
      "text/plain": [
       "[('test', 3), ('hello', 3)]"
      ]
     },
     "execution_count": 23,
     "metadata": {},
     "output_type": "execute_result"
    }
   ],
   "source": [
    "rdd3.filter(lambda x: x[1]>2).collect()"
   ]
  },
  {
   "cell_type": "markdown",
   "id": "20b5054c-03b9-424b-9930-cd4f9c85ffe5",
   "metadata": {},
   "source": [
    "### distinct\n",
    "去重"
   ]
  },
  {
   "cell_type": "code",
   "execution_count": 24,
   "id": "cc1ce700-ffe5-4546-b097-1015d251057b",
   "metadata": {},
   "outputs": [
    {
     "data": {
      "text/plain": [
       "[('hello', 1),\n",
       " ('hello', 1),\n",
       " ('txt', 1),\n",
       " ('txt', 1),\n",
       " ('test', 1),\n",
       " ('test', 1),\n",
       " ('test', 1),\n",
       " ('qiang', 1),\n",
       " ('qiang', 1),\n",
       " ('hello', 1),\n",
       " ('hadoop', 1),\n",
       " ('spark', 1),\n",
       " ('spark', 1)]"
      ]
     },
     "execution_count": 24,
     "metadata": {},
     "output_type": "execute_result"
    }
   ],
   "source": [
    "rdd2.collect()"
   ]
  },
  {
   "cell_type": "code",
   "execution_count": 25,
   "id": "301b4c10-eb1f-4df6-90ad-cf218189abcd",
   "metadata": {},
   "outputs": [
    {
     "data": {
      "text/plain": [
       "[('hello', 1),\n",
       " ('txt', 1),\n",
       " ('spark', 1),\n",
       " ('test', 1),\n",
       " ('qiang', 1),\n",
       " ('hadoop', 1)]"
      ]
     },
     "execution_count": 25,
     "metadata": {},
     "output_type": "execute_result"
    }
   ],
   "source": [
    "rdd2.distinct().collect()"
   ]
  },
  {
   "cell_type": "markdown",
   "id": "0c2b2876-796c-42fe-97ca-8c69ae027929",
   "metadata": {},
   "source": [
    "### Union\n",
    "合并 "
   ]
  },
  {
   "cell_type": "code",
   "execution_count": 26,
   "id": "dcff0620-f4be-43e1-ac9e-7f95c8ae674c",
   "metadata": {},
   "outputs": [
    {
     "data": {
      "text/plain": [
       "[('hello', 1),\n",
       " ('hello', 1),\n",
       " ('txt', 1),\n",
       " ('txt', 1),\n",
       " ('test', 1),\n",
       " ('test', 1),\n",
       " ('test', 1),\n",
       " ('qiang', 1),\n",
       " ('qiang', 1),\n",
       " ('hello', 1),\n",
       " ('hadoop', 1),\n",
       " ('spark', 1),\n",
       " ('spark', 1),\n",
       " ('test', 3),\n",
       " ('qiang', 2),\n",
       " ('hadoop', 1),\n",
       " ('hello', 3),\n",
       " ('txt', 2),\n",
       " ('spark', 2)]"
      ]
     },
     "execution_count": 26,
     "metadata": {},
     "output_type": "execute_result"
    }
   ],
   "source": [
    "rdd2.union(rdd3).collect()"
   ]
  },
  {
   "cell_type": "markdown",
   "id": "b66007b8-b71b-4abf-8745-4a097c340149",
   "metadata": {},
   "source": [
    "### join"
   ]
  },
  {
   "cell_type": "code",
   "execution_count": 27,
   "id": "e3d08d63-6fe1-4c24-9d51-846a2945738b",
   "metadata": {},
   "outputs": [],
   "source": [
    "rdda=sc.parallelize([(1001,'qiang'),(1002,'ma'),(1003,'ferro')])\n",
    "rddb=sc.parallelize([(1001,'unipi'),(1003,'uniupo'),(1002,'polito')])"
   ]
  },
  {
   "cell_type": "code",
   "execution_count": 28,
   "id": "97f3376a-e2bb-4584-ae4b-fe2d60f72560",
   "metadata": {},
   "outputs": [
    {
     "data": {
      "text/plain": [
       "[(1001, ('qiang', 'unipi')),\n",
       " (1002, ('ma', 'polito')),\n",
       " (1003, ('ferro', 'uniupo'))]"
      ]
     },
     "execution_count": 28,
     "metadata": {},
     "output_type": "execute_result"
    }
   ],
   "source": [
    "#根据key关联\n",
    "rdda.join(rddb).collect()"
   ]
  },
  {
   "cell_type": "code",
   "execution_count": 29,
   "id": "b4297726-aa16-4fd8-8915-cc939c5605b1",
   "metadata": {},
   "outputs": [
    {
     "data": {
      "text/plain": [
       "[(1001, ('qiang', 'unipi')), (1002, ('ma', None)), (1003, ('ferro', 'uniupo'))]"
      ]
     },
     "execution_count": 29,
     "metadata": {},
     "output_type": "execute_result"
    }
   ],
   "source": [
    "#left\n",
    "rdda=sc.parallelize([(1001,'qiang'),(1002,'ma'),(1003,'ferro')])\n",
    "rddb=sc.parallelize([(1001,'unipi'),(1003,'uniupo')])\n",
    "rdda.leftOuterJoin(rddb).collect()"
   ]
  },
  {
   "cell_type": "code",
   "execution_count": 30,
   "id": "a69d1b81-42ab-441c-a98f-73c05ebadbc2",
   "metadata": {},
   "outputs": [
    {
     "data": {
      "text/plain": [
       "[(1001, ('qiang', 'unipi')), (1003, ('ferro', 'uniupo'))]"
      ]
     },
     "execution_count": 30,
     "metadata": {},
     "output_type": "execute_result"
    }
   ],
   "source": [
    "#right\n",
    "rdda=sc.parallelize([(1001,'qiang'),(1002,'ma'),(1003,'ferro')])\n",
    "rddb=sc.parallelize([(1001,'unipi'),(1003,'uniupo')])\n",
    "rdda.rightOuterJoin(rddb).collect()"
   ]
  },
  {
   "cell_type": "markdown",
   "id": "8f2dce50-9bbb-440d-acde-ac7c77ef8670",
   "metadata": {},
   "source": [
    "### intersecton\n",
    "交集"
   ]
  },
  {
   "cell_type": "code",
   "execution_count": 31,
   "id": "728e209e-47b0-4e11-81e5-927e62f02b3b",
   "metadata": {},
   "outputs": [
    {
     "data": {
      "text/plain": [
       "[('hello', 1),\n",
       " ('hello', 1),\n",
       " ('txt', 1),\n",
       " ('txt', 1),\n",
       " ('test', 1),\n",
       " ('test', 1),\n",
       " ('test', 1),\n",
       " ('qiang', 1),\n",
       " ('qiang', 1),\n",
       " ('hello', 1),\n",
       " ('hadoop', 1),\n",
       " ('spark', 1),\n",
       " ('spark', 1)]"
      ]
     },
     "execution_count": 31,
     "metadata": {},
     "output_type": "execute_result"
    }
   ],
   "source": [
    "rdd2.collect()"
   ]
  },
  {
   "cell_type": "code",
   "execution_count": 32,
   "id": "1747670f-6079-493a-9e60-e49102714fbe",
   "metadata": {},
   "outputs": [
    {
     "data": {
      "text/plain": [
       "[('test', 3),\n",
       " ('qiang', 2),\n",
       " ('hadoop', 1),\n",
       " ('hello', 3),\n",
       " ('txt', 2),\n",
       " ('spark', 2)]"
      ]
     },
     "execution_count": 32,
     "metadata": {},
     "output_type": "execute_result"
    }
   ],
   "source": [
    "rdd3.collect()"
   ]
  },
  {
   "cell_type": "code",
   "execution_count": 33,
   "id": "6967db17-c5b2-49a9-8f36-55aa42fe01fd",
   "metadata": {},
   "outputs": [
    {
     "data": {
      "text/plain": [
       "[('hadoop', 1)]"
      ]
     },
     "execution_count": 33,
     "metadata": {},
     "output_type": "execute_result"
    }
   ],
   "source": [
    "rdd2.intersection(rdd3).collect()"
   ]
  },
  {
   "cell_type": "markdown",
   "id": "64b725f2-269c-4802-97c0-988db5a28ad3",
   "metadata": {},
   "source": [
    "### glom 根据分区嵌套\n",
    "\n",
    "glom 与 flatmap相反"
   ]
  },
  {
   "cell_type": "code",
   "execution_count": 34,
   "id": "21332962-5a01-4ed4-ab26-84391d0cca06",
   "metadata": {},
   "outputs": [
    {
     "data": {
      "text/plain": [
       "[[('hello', 1),\n",
       "  ('hello', 1),\n",
       "  ('txt', 1),\n",
       "  ('txt', 1),\n",
       "  ('test', 1),\n",
       "  ('test', 1),\n",
       "  ('test', 1),\n",
       "  ('qiang', 1),\n",
       "  ('qiang', 1)],\n",
       " [('hello', 1), ('hadoop', 1), ('spark', 1), ('spark', 1)]]"
      ]
     },
     "execution_count": 34,
     "metadata": {},
     "output_type": "execute_result"
    }
   ],
   "source": [
    "rdd2.glom().collect()"
   ]
  },
  {
   "cell_type": "code",
   "execution_count": 35,
   "id": "f4677eb6-f090-4437-aa20-f4c570947cc6",
   "metadata": {},
   "outputs": [
    {
     "data": {
      "text/plain": [
       "[('hello', 1),\n",
       " ('hello', 1),\n",
       " ('txt', 1),\n",
       " ('txt', 1),\n",
       " ('test', 1),\n",
       " ('test', 1),\n",
       " ('test', 1),\n",
       " ('qiang', 1),\n",
       " ('qiang', 1),\n",
       " ('hello', 1),\n",
       " ('hadoop', 1),\n",
       " ('spark', 1),\n",
       " ('spark', 1)]"
      ]
     },
     "execution_count": 35,
     "metadata": {},
     "output_type": "execute_result"
    }
   ],
   "source": [
    "rdd2.glom().flatMap(lambda x:x).collect()"
   ]
  },
  {
   "cell_type": "markdown",
   "id": "d0ff4e9b-a37e-40b2-9296-1c202a17b1ec",
   "metadata": {},
   "source": [
    "### groupByKey"
   ]
  },
  {
   "cell_type": "code",
   "execution_count": 36,
   "id": "537e3540-f8f2-42ab-b8ee-eab3ac54ee32",
   "metadata": {},
   "outputs": [
    {
     "data": {
      "text/plain": [
       "[('hello', 1),\n",
       " ('hello', 1),\n",
       " ('txt', 1),\n",
       " ('txt', 1),\n",
       " ('test', 1),\n",
       " ('test', 1),\n",
       " ('test', 1),\n",
       " ('qiang', 1),\n",
       " ('qiang', 1),\n",
       " ('hello', 1),\n",
       " ('hadoop', 1),\n",
       " ('spark', 1),\n",
       " ('spark', 1)]"
      ]
     },
     "execution_count": 36,
     "metadata": {},
     "output_type": "execute_result"
    }
   ],
   "source": [
    "rdd2.collect()"
   ]
  },
  {
   "cell_type": "code",
   "execution_count": 37,
   "id": "2adc817e-34dd-460e-a2cc-1a8182221422",
   "metadata": {},
   "outputs": [
    {
     "data": {
      "text/plain": [
       "[('test', [1, 1, 1]),\n",
       " ('qiang', [1, 1]),\n",
       " ('hadoop', [1]),\n",
       " ('hello', [1, 1, 1]),\n",
       " ('txt', [1, 1]),\n",
       " ('spark', [1, 1])]"
      ]
     },
     "execution_count": 37,
     "metadata": {},
     "output_type": "execute_result"
    }
   ],
   "source": [
    "rdd2.groupByKey().map(lambda x:(x[0],list(x[1]))).collect()"
   ]
  },
  {
   "cell_type": "markdown",
   "id": "1c5168ea-cf39-4bf4-9edf-7d3135c11346",
   "metadata": {},
   "source": [
    "### sortBy"
   ]
  },
  {
   "cell_type": "code",
   "execution_count": 44,
   "id": "f683b324-eb94-4488-84e3-4640df1cff53",
   "metadata": {},
   "outputs": [
    {
     "data": {
      "text/plain": [
       "[('hadoop', 1),\n",
       " ('qiang', 2),\n",
       " ('txt', 2),\n",
       " ('spark', 2),\n",
       " ('test', 3),\n",
       " ('hello', 3)]"
      ]
     },
     "execution_count": 44,
     "metadata": {},
     "output_type": "execute_result"
    }
   ],
   "source": [
    "rdd3.sortBy(lambda x:x[1]).collect()"
   ]
  },
  {
   "cell_type": "code",
   "execution_count": 43,
   "id": "637e272f-e479-434d-a46a-602b58919534",
   "metadata": {},
   "outputs": [
    {
     "data": {
      "text/plain": [
       "[('test', 3),\n",
       " ('hello', 3),\n",
       " ('qiang', 2),\n",
       " ('txt', 2),\n",
       " ('spark', 2),\n",
       " ('hadoop', 1)]"
      ]
     },
     "execution_count": 43,
     "metadata": {},
     "output_type": "execute_result"
    }
   ],
   "source": [
    "rdd3.sortBy(lambda x:x[1],False).collect()"
   ]
  },
  {
   "cell_type": "code",
   "execution_count": 47,
   "id": "2b3dfc63-b047-4186-bab8-1f2d957d9b63",
   "metadata": {},
   "outputs": [
    {
     "data": {
      "text/plain": [
       "[('hadoop', 1),\n",
       " ('hello', 3),\n",
       " ('qiang', 2),\n",
       " ('spark', 2),\n",
       " ('test', 3),\n",
       " ('txt', 2)]"
      ]
     },
     "execution_count": 47,
     "metadata": {},
     "output_type": "execute_result"
    }
   ],
   "source": [
    "#根据key字母排序\n",
    "rdd3.sortByKey().collect()"
   ]
  },
  {
   "cell_type": "code",
   "execution_count": null,
   "id": "0021c45a-8723-4e8e-9f4e-a176da6ad6dc",
   "metadata": {},
   "outputs": [],
   "source": []
  }
 ],
 "metadata": {
  "kernelspec": {
   "display_name": "Python 3 (ipykernel)",
   "language": "python",
   "name": "python3"
  },
  "language_info": {
   "codemirror_mode": {
    "name": "ipython",
    "version": 3
   },
   "file_extension": ".py",
   "mimetype": "text/x-python",
   "name": "python",
   "nbconvert_exporter": "python",
   "pygments_lexer": "ipython3",
   "version": "3.9.7"
  }
 },
 "nbformat": 4,
 "nbformat_minor": 5
}
