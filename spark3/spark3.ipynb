{
 "cells": [
  {
   "cell_type": "code",
   "execution_count": 1,
   "id": "8e82ce8a-2851-4578-b9e5-f6a543356456",
   "metadata": {},
   "outputs": [
    {
     "name": "stderr",
     "output_type": "stream",
     "text": [
      "22/05/10 18:33:23 WARN Utils: Your hostname, MaQiang resolves to a loopback address: 127.0.1.1; using 192.168.1.110 instead (on interface wlp2s0)\n",
      "22/05/10 18:33:23 WARN Utils: Set SPARK_LOCAL_IP if you need to bind to another address\n",
      "22/05/10 18:33:24 WARN NativeCodeLoader: Unable to load native-hadoop library for your platform... using builtin-java classes where applicable\n",
      "Using Spark's default log4j profile: org/apache/spark/log4j-defaults.properties\n",
      "Setting default log level to \"WARN\".\n",
      "To adjust logging level use sc.setLogLevel(newLevel). For SparkR, use setLogLevel(newLevel).\n"
     ]
    }
   ],
   "source": [
    "from pyspark import SparkConf,SparkContext\n",
    "\n",
    "conf=SparkConf().setAppName('spark3').setMaster('local[*]')\n",
    "sc=SparkContext(conf=conf)"
   ]
  },
  {
   "cell_type": "markdown",
   "id": "a4972ebb-90ba-4a14-8937-79b2107b9255",
   "metadata": {},
   "source": [
    "### countByKey"
   ]
  },
  {
   "cell_type": "code",
   "execution_count": 2,
   "id": "a3ec4115-c738-4ba9-87b3-c959ca645872",
   "metadata": {},
   "outputs": [],
   "source": [
    "rdd=sc.textFile('txt/spark3.txt')\n",
    "rdd1=rdd.flatMap(lambda x: x.split(' ')).map(lambda x: (x,1))"
   ]
  },
  {
   "cell_type": "code",
   "execution_count": 3,
   "id": "aaac9ca0-bd7d-4f64-8d86-cdbbb773fb77",
   "metadata": {},
   "outputs": [
    {
     "name": "stderr",
     "output_type": "stream",
     "text": [
      "                                                                                \r"
     ]
    },
    {
     "data": {
      "text/plain": [
       "defaultdict(int,\n",
       "            {'hello': 3,\n",
       "             'txt': 2,\n",
       "             'test': 3,\n",
       "             'qiang': 2,\n",
       "             'hadoop': 1,\n",
       "             'spark': 2})"
      ]
     },
     "execution_count": 3,
     "metadata": {},
     "output_type": "execute_result"
    }
   ],
   "source": [
    "rdd1.countByKey()"
   ]
  },
  {
   "cell_type": "markdown",
   "id": "770d08cb-df1e-463c-97c4-d10b01835c2a",
   "metadata": {},
   "source": [
    "### fold"
   ]
  },
  {
   "cell_type": "code",
   "execution_count": 4,
   "id": "a9a786e6-402e-41eb-881c-6682e7daea26",
   "metadata": {},
   "outputs": [],
   "source": [
    "rdd=sc.parallelize(range(1,101),5)"
   ]
  },
  {
   "cell_type": "code",
   "execution_count": 5,
   "id": "5a13e720-91ec-44ba-850c-a2c99028f1c6",
   "metadata": {},
   "outputs": [
    {
     "data": {
      "text/plain": [
       "5050"
      ]
     },
     "execution_count": 5,
     "metadata": {},
     "output_type": "execute_result"
    }
   ],
   "source": [
    "rdd.fold(0,lambda x,y:x+y)  #0作为初始值 + 后面总数"
   ]
  },
  {
   "cell_type": "markdown",
   "id": "3d33fdb9-524c-4784-af1b-6cad6bb622b9",
   "metadata": {},
   "source": [
    "### first , take ,top, count"
   ]
  },
  {
   "cell_type": "code",
   "execution_count": 6,
   "id": "ec0f2401-68ca-4a29-ad01-b59367a3a308",
   "metadata": {},
   "outputs": [
    {
     "data": {
      "text/plain": [
       "1"
      ]
     },
     "execution_count": 6,
     "metadata": {},
     "output_type": "execute_result"
    }
   ],
   "source": [
    "rdd.first()"
   ]
  },
  {
   "cell_type": "code",
   "execution_count": 7,
   "id": "0eb5aed0-061d-460a-8859-915581474a82",
   "metadata": {},
   "outputs": [
    {
     "data": {
      "text/plain": [
       "[1, 2, 3, 4, 5]"
      ]
     },
     "execution_count": 7,
     "metadata": {},
     "output_type": "execute_result"
    }
   ],
   "source": [
    "rdd.take(5)"
   ]
  },
  {
   "cell_type": "code",
   "execution_count": 8,
   "id": "bbc9c727-da82-4ce5-af4e-62a67d9cea3a",
   "metadata": {},
   "outputs": [
    {
     "data": {
      "text/plain": [
       "[100, 99, 98, 97, 96]"
      ]
     },
     "execution_count": 8,
     "metadata": {},
     "output_type": "execute_result"
    }
   ],
   "source": [
    "rdd.top(5)  #降序"
   ]
  },
  {
   "cell_type": "code",
   "execution_count": 9,
   "id": "4c0f04b4-b7ab-405b-b9f5-cfc90a429d4d",
   "metadata": {},
   "outputs": [
    {
     "data": {
      "text/plain": [
       "100"
      ]
     },
     "execution_count": 9,
     "metadata": {},
     "output_type": "execute_result"
    }
   ],
   "source": [
    "rdd.count()"
   ]
  },
  {
   "cell_type": "markdown",
   "id": "4cd1b303-f860-4735-8fe3-65a2133b267e",
   "metadata": {},
   "source": [
    "### takeSample \n",
    "\n",
    "随机取出5个"
   ]
  },
  {
   "cell_type": "code",
   "execution_count": 10,
   "id": "8b01b5d6-2917-4c85-a15f-61a26b3a23fa",
   "metadata": {},
   "outputs": [
    {
     "data": {
      "text/plain": [
       "[10, 83, 96, 56, 84]"
      ]
     },
     "execution_count": 10,
     "metadata": {},
     "output_type": "execute_result"
    }
   ],
   "source": [
    "rdd.takeSample(False,5)  #True 允许一样的, False 不同个数据"
   ]
  },
  {
   "cell_type": "markdown",
   "id": "2746713a-1d3d-4c87-ab70-afffa7fbe965",
   "metadata": {},
   "source": [
    "### takeOrder"
   ]
  },
  {
   "cell_type": "code",
   "execution_count": 11,
   "id": "19cc8a20-1a54-4494-b5bc-22b865fcbe55",
   "metadata": {},
   "outputs": [
    {
     "data": {
      "text/plain": [
       "[1, 2, 3, 4, 5]"
      ]
     },
     "execution_count": 11,
     "metadata": {},
     "output_type": "execute_result"
    }
   ],
   "source": [
    "rdd.takeOrdered(5)"
   ]
  },
  {
   "cell_type": "code",
   "execution_count": 12,
   "id": "bd51362f-ed7e-4c0d-9069-d3aa26f0d7a0",
   "metadata": {},
   "outputs": [
    {
     "data": {
      "text/plain": [
       "[100, 99, 98, 97, 96]"
      ]
     },
     "execution_count": 12,
     "metadata": {},
     "output_type": "execute_result"
    }
   ],
   "source": [
    "rdd.takeOrdered(5,lambda x:-x) # 倒序"
   ]
  },
  {
   "cell_type": "markdown",
   "id": "4ac00501-0ec3-4e49-9173-7d2aa0a78e9e",
   "metadata": {},
   "source": [
    "### foreach 没有返回值 类似map ,效率快"
   ]
  },
  {
   "cell_type": "code",
   "execution_count": 13,
   "id": "361d3a99-f4d2-43db-934f-bf8d0c5cfbec",
   "metadata": {},
   "outputs": [
    {
     "name": "stderr",
     "output_type": "stream",
     "text": [
      "21\n",
      "22\n",
      "23\n",
      "24\n",
      "25\n",
      "26\n",
      "27\n",
      "28\n",
      "29\n",
      "30\n",
      "31\n",
      "32\n",
      "33\n",
      "34\n",
      "35\n",
      "36\n",
      "37\n",
      "38\n",
      "39\n",
      "40\n",
      "1\n",
      "2\n",
      "3\n",
      "4\n",
      "5\n",
      "6\n",
      "7\n",
      "8\n",
      "9\n",
      "10\n",
      "11\n",
      "12\n",
      "13\n",
      "14\n",
      "15\n",
      "16\n",
      "17\n",
      "18\n",
      "19\n",
      "20\n",
      "41\n",
      "42\n",
      "43\n",
      "44\n",
      "45\n",
      "46\n",
      "47\n",
      "48\n",
      "49\n",
      "50\n",
      "51\n",
      "52\n",
      "53\n",
      "54\n",
      "55\n",
      "56\n",
      "57\n",
      "58\n",
      "59\n",
      "60\n",
      "61\n",
      "62\n",
      "63\n",
      "64\n",
      "65\n",
      "66\n",
      "67\n",
      "68\n",
      "69\n",
      "70\n",
      "71\n",
      "72\n",
      "73\n",
      "74\n",
      "75\n",
      "76\n",
      "77\n",
      "78\n",
      "79\n",
      "80\n",
      "81\n",
      "82\n",
      "83\n",
      "84\n",
      "85\n",
      "86\n",
      "87\n",
      "88\n",
      "89\n",
      "90\n",
      "91\n",
      "92\n",
      "93\n",
      "94\n",
      "95\n",
      "96\n",
      "97\n",
      "98\n",
      "99\n",
      "100\n"
     ]
    }
   ],
   "source": [
    "rdd.foreach(lambda x: print(x))  #打印的顺序不对,因为不返回到driver,之在分区处理,更快"
   ]
  },
  {
   "cell_type": "markdown",
   "id": "0a03ba1c-d45a-4cc3-9bea-7b851578c970",
   "metadata": {},
   "source": [
    "### saveAsFile"
   ]
  },
  {
   "cell_type": "code",
   "execution_count": 15,
   "id": "12bf9ceb-dbfd-4a64-9075-70b3d3fde2ea",
   "metadata": {},
   "outputs": [],
   "source": [
    "rdd.saveAsTextFile('txt/file.txt') #分区直接写入"
   ]
  },
  {
   "cell_type": "markdown",
   "id": "d3083df0-ffed-432c-9907-96529f543d2e",
   "metadata": {},
   "source": [
    "### mapPartitions  \n",
    "分区算子 更快,map每次传递一个数据,mappartitions 返回一个分区, 返回 RDD"
   ]
  },
  {
   "cell_type": "code",
   "execution_count": 17,
   "id": "c0403039-e1e7-4947-8437-4235219235eb",
   "metadata": {},
   "outputs": [],
   "source": [
    "def fun(x):\n",
    "    result=[]\n",
    "    for i in x:\n",
    "        result.append(i*10)\n",
    "    return result"
   ]
  },
  {
   "cell_type": "code",
   "execution_count": 19,
   "id": "281f0fbd-b8c8-47fb-bfb6-10c840d0955b",
   "metadata": {},
   "outputs": [
    {
     "data": {
      "text/plain": [
       "[10,\n",
       " 20,\n",
       " 30,\n",
       " 40,\n",
       " 50,\n",
       " 60,\n",
       " 70,\n",
       " 80,\n",
       " 90,\n",
       " 100,\n",
       " 110,\n",
       " 120,\n",
       " 130,\n",
       " 140,\n",
       " 150,\n",
       " 160,\n",
       " 170,\n",
       " 180,\n",
       " 190,\n",
       " 200,\n",
       " 210,\n",
       " 220,\n",
       " 230,\n",
       " 240,\n",
       " 250,\n",
       " 260,\n",
       " 270,\n",
       " 280,\n",
       " 290,\n",
       " 300,\n",
       " 310,\n",
       " 320,\n",
       " 330,\n",
       " 340,\n",
       " 350,\n",
       " 360,\n",
       " 370,\n",
       " 380,\n",
       " 390,\n",
       " 400,\n",
       " 410,\n",
       " 420,\n",
       " 430,\n",
       " 440,\n",
       " 450,\n",
       " 460,\n",
       " 470,\n",
       " 480,\n",
       " 490,\n",
       " 500,\n",
       " 510,\n",
       " 520,\n",
       " 530,\n",
       " 540,\n",
       " 550,\n",
       " 560,\n",
       " 570,\n",
       " 580,\n",
       " 590,\n",
       " 600,\n",
       " 610,\n",
       " 620,\n",
       " 630,\n",
       " 640,\n",
       " 650,\n",
       " 660,\n",
       " 670,\n",
       " 680,\n",
       " 690,\n",
       " 700,\n",
       " 710,\n",
       " 720,\n",
       " 730,\n",
       " 740,\n",
       " 750,\n",
       " 760,\n",
       " 770,\n",
       " 780,\n",
       " 790,\n",
       " 800,\n",
       " 810,\n",
       " 820,\n",
       " 830,\n",
       " 840,\n",
       " 850,\n",
       " 860,\n",
       " 870,\n",
       " 880,\n",
       " 890,\n",
       " 900,\n",
       " 910,\n",
       " 920,\n",
       " 930,\n",
       " 940,\n",
       " 950,\n",
       " 960,\n",
       " 970,\n",
       " 980,\n",
       " 990,\n",
       " 1000]"
      ]
     },
     "execution_count": 19,
     "metadata": {},
     "output_type": "execute_result"
    }
   ],
   "source": [
    "rdd.mapPartitions(fun).collect()"
   ]
  },
  {
   "cell_type": "markdown",
   "id": "e9aacf85-6da7-4463-9634-1226f179e024",
   "metadata": {},
   "source": [
    "### foreachPartition \n",
    "相当于foreach,但是直接操作分区"
   ]
  },
  {
   "cell_type": "code",
   "execution_count": 21,
   "id": "dc174fa5-3f4b-424b-ad26-da72ac4ee175",
   "metadata": {},
   "outputs": [
    {
     "name": "stderr",
     "output_type": "stream",
     "text": [
      "[410, 420, 430, 440, 450, 460, 470, 480, 490, 500, 510, 520, 530, 540, 550, 560, 570, 580, 590, 600]\n",
      "[10, 20, 30, 40, 50, 60, 70, 80, 90, 100, 110, 120, 130, 140, 150, 160, 170, 180, 190, 200]\n",
      "[210, 220, 230, 240, 250, 260, 270, 280, 290, 300, 310, 320, 330, 340, 350, 360, 370, 380, 390, 400]\n",
      "[610, 620, 630, 640, 650, 660, 670, 680, 690, 700, 710, 720, 730, 740, 750, 760, 770, 780, 790, 800]\n",
      "[810, 820, 830, 840, 850, 860, 870, 880, 890, 900, 910, 920, 930, 940, 950, 960, 970, 980, 990, 1000]\n"
     ]
    }
   ],
   "source": [
    "def fun(x):\n",
    "    result=[]\n",
    "    for i in x:\n",
    "        result.append(i*10)\n",
    "    print( result)\n",
    "rdd.foreachPartition(fun)"
   ]
  },
  {
   "cell_type": "markdown",
   "id": "443927a7-4e65-471c-b6c5-916a6cee6a8b",
   "metadata": {},
   "source": [
    "### partitionBy\n",
    "\n",
    "自定义规则 分区"
   ]
  },
  {
   "cell_type": "code",
   "execution_count": 28,
   "id": "78c73864-aa55-46af-aaef-ebcc73a2631a",
   "metadata": {},
   "outputs": [],
   "source": [
    "rdd=sc.textFile('txt/spark3.txt').flatMap(lambda x:x.split(' ')).map(lambda x :(x,1))"
   ]
  },
  {
   "cell_type": "code",
   "execution_count": 33,
   "id": "49b42dfe-6557-432f-9e99-089c7691f378",
   "metadata": {},
   "outputs": [],
   "source": [
    "def process(x):\n",
    "    if 'spark'==x : return 0  #给第一分区\n",
    "    if 'hello'==x : return 1\n",
    "    return 2"
   ]
  },
  {
   "cell_type": "code",
   "execution_count": 35,
   "id": "eea3fa15-9d7d-44ef-960e-562019e9d591",
   "metadata": {},
   "outputs": [
    {
     "data": {
      "text/plain": [
       "[[('spark', 1), ('spark', 1)],\n",
       " [('hello', 1), ('hello', 1), ('hello', 1)],\n",
       " [('txt', 1),\n",
       "  ('txt', 1),\n",
       "  ('test', 1),\n",
       "  ('test', 1),\n",
       "  ('test', 1),\n",
       "  ('qiang', 1),\n",
       "  ('qiang', 1),\n",
       "  ('hadoop', 1)]]"
      ]
     },
     "execution_count": 35,
     "metadata": {},
     "output_type": "execute_result"
    }
   ],
   "source": [
    "rdd.partitionBy(3,process).glom().collect()"
   ]
  },
  {
   "cell_type": "markdown",
   "id": "b2505a1c-37fd-4ae4-b3d9-8367035565dc",
   "metadata": {},
   "source": [
    "### repartition 最好不用,会洗牌,影响速度\n",
    "重新分区"
   ]
  },
  {
   "cell_type": "code",
   "execution_count": 38,
   "id": "dadc86c2-b674-4520-8314-baec3a2fb8e1",
   "metadata": {},
   "outputs": [
    {
     "data": {
      "text/plain": [
       "[[],\n",
       " [('hello', 1),\n",
       "  ('hello', 1),\n",
       "  ('txt', 1),\n",
       "  ('txt', 1),\n",
       "  ('test', 1),\n",
       "  ('test', 1),\n",
       "  ('test', 1),\n",
       "  ('qiang', 1),\n",
       "  ('qiang', 1)],\n",
       " [('hello', 1), ('hadoop', 1), ('spark', 1), ('spark', 1)]]"
      ]
     },
     "execution_count": 38,
     "metadata": {},
     "output_type": "execute_result"
    },
    {
     "name": "stderr",
     "output_type": "stream",
     "text": [
      "22/05/10 22:04:10 WARN HeartbeatReceiver: Removing executor driver with no recent heartbeats: 8807612 ms exceeds timeout 120000 ms\n",
      "22/05/10 22:04:10 WARN SparkContext: Killing executors is not supported by current scheduler.\n"
     ]
    }
   ],
   "source": [
    "rdd.repartition(3).glom().collect()"
   ]
  },
  {
   "cell_type": "code",
   "execution_count": null,
   "id": "05589bde-e4f4-4a8b-acd9-83030402121d",
   "metadata": {},
   "outputs": [],
   "source": []
  }
 ],
 "metadata": {
  "kernelspec": {
   "display_name": "Python 3 (ipykernel)",
   "language": "python",
   "name": "python3"
  },
  "language_info": {
   "codemirror_mode": {
    "name": "ipython",
    "version": 3
   },
   "file_extension": ".py",
   "mimetype": "text/x-python",
   "name": "python",
   "nbconvert_exporter": "python",
   "pygments_lexer": "ipython3",
   "version": "3.9.7"
  }
 },
 "nbformat": 4,
 "nbformat_minor": 5
}
