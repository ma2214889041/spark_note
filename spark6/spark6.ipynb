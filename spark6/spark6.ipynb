{
 "cells": [
  {
   "cell_type": "code",
   "execution_count": 19,
   "id": "6f2e75e4-274f-4b5d-8bbc-41908c6b9e00",
   "metadata": {},
   "outputs": [],
   "source": [
    "from pyspark.sql import SparkSession\n",
    "spark=SparkSession.builder.appName('test').master('local[*]').config('spark.sql.shuffle.partitions',4).getOrCreate()\n",
    "\n",
    "sc=spark.sparkContext\n",
    "\n",
    "from pyspark.sql.types import StructType,StringType,IntegerType\n",
    "import pandas as pd"
   ]
  },
  {
   "cell_type": "markdown",
   "id": "71b1376f-da24-4048-a52e-87767321ae9c",
   "metadata": {},
   "source": [
    "# 用RDD构建 DF 1"
   ]
  },
  {
   "cell_type": "code",
   "execution_count": 20,
   "id": "bde72e63-832b-49a7-bd72-c5f971ec6558",
   "metadata": {},
   "outputs": [],
   "source": [
    "rdd=sc.textFile('txt/spark1.txt')\n",
    "rdd1=rdd.map(lambda x:x.split(', ')).map(lambda x:[x[0],int(x[1])])"
   ]
  },
  {
   "cell_type": "code",
   "execution_count": 21,
   "id": "528fbd07-3783-4e9e-b02e-a905cc5a1c64",
   "metadata": {},
   "outputs": [
    {
     "data": {
      "text/plain": [
       "[['qiang', 43], ['ma', 436], ['guge', 346]]"
      ]
     },
     "execution_count": 21,
     "metadata": {},
     "output_type": "execute_result"
    }
   ],
   "source": [
    "rdd1.collect()"
   ]
  },
  {
   "cell_type": "code",
   "execution_count": 22,
   "id": "68a9fc79-00a7-4348-aaf8-aa0175aa51d7",
   "metadata": {},
   "outputs": [],
   "source": [
    "df=spark.createDataFrame(rdd1,schema=['name','vaule'])"
   ]
  },
  {
   "cell_type": "code",
   "execution_count": 23,
   "id": "f02e5e30-e05a-40bc-8082-a3b8a9521e31",
   "metadata": {},
   "outputs": [
    {
     "name": "stdout",
     "output_type": "stream",
     "text": [
      "root\n",
      " |-- name: string (nullable = true)\n",
      " |-- vaule: long (nullable = true)\n",
      "\n"
     ]
    }
   ],
   "source": [
    "#打印表结构\n",
    "df.printSchema()"
   ]
  },
  {
   "cell_type": "code",
   "execution_count": 24,
   "id": "fab2e946-8a89-4ffa-bf82-30c2e42f2bb6",
   "metadata": {},
   "outputs": [
    {
     "name": "stdout",
     "output_type": "stream",
     "text": [
      "+-----+-----+\n",
      "|name |vaule|\n",
      "+-----+-----+\n",
      "|qiang|43   |\n",
      "|ma   |436  |\n",
      "|guge |346  |\n",
      "+-----+-----+\n",
      "\n"
     ]
    }
   ],
   "source": [
    "df.show(20,False) #最大显示20 rows"
   ]
  },
  {
   "cell_type": "markdown",
   "id": "4aac4cae-32bc-4e09-b3f9-ee79854a1826",
   "metadata": {},
   "source": [
    "#### 建立临时表 SQL查询"
   ]
  },
  {
   "cell_type": "code",
   "execution_count": 25,
   "id": "cc0d392f-2fdc-48e2-a392-7b9e06f19138",
   "metadata": {},
   "outputs": [],
   "source": [
    "df.createOrReplaceTempView('temp')\n"
   ]
  },
  {
   "cell_type": "code",
   "execution_count": 26,
   "id": "b0c9f19a-724e-4067-ae48-e36328af2320",
   "metadata": {},
   "outputs": [
    {
     "name": "stdout",
     "output_type": "stream",
     "text": [
      "+----+\n",
      "|name|\n",
      "+----+\n",
      "|  ma|\n",
      "|guge|\n",
      "+----+\n",
      "\n"
     ]
    }
   ],
   "source": [
    "#SQL查询\n",
    "spark.sql('select name from temp where vaule >100').show()"
   ]
  },
  {
   "cell_type": "markdown",
   "id": "6cee63b4-356c-4842-8f5f-53bb95e64da0",
   "metadata": {},
   "source": [
    "# 用RDD构建 DF 2\n",
    "\n",
    "### StringTypes\n"
   ]
  },
  {
   "cell_type": "code",
   "execution_count": 27,
   "id": "17f5526b-9ad4-41b3-a721-14703cc0e56f",
   "metadata": {},
   "outputs": [
    {
     "name": "stdout",
     "output_type": "stream",
     "text": [
      "+-----+---+\n",
      "| name|age|\n",
      "+-----+---+\n",
      "|qiang| 43|\n",
      "|   ma|436|\n",
      "| guge|346|\n",
      "+-----+---+\n",
      "\n"
     ]
    }
   ],
   "source": [
    "#定义列名字,数据类型,是否为空\n",
    "schema= StructType().add('name',StringType(),nullable=True).add('age',IntegerType(),nullable=False)\n",
    "df=spark.createDataFrame(rdd1,schema)\n",
    "df.show()"
   ]
  },
  {
   "cell_type": "markdown",
   "id": "22f13778-d49b-44da-b8f1-605da50c7947",
   "metadata": {},
   "source": [
    "# 用  ToDF"
   ]
  },
  {
   "cell_type": "code",
   "execution_count": 28,
   "id": "56a1440a-a073-4aad-a8e1-e5225ce15c4f",
   "metadata": {
    "collapsed": true,
    "jupyter": {
     "outputs_hidden": true
    },
    "tags": []
   },
   "outputs": [
    {
     "name": "stdout",
     "output_type": "stream",
     "text": [
      "+-----+-----+\n",
      "| name|vaule|\n",
      "+-----+-----+\n",
      "|qiang|   43|\n",
      "|   ma|  436|\n",
      "| guge|  346|\n",
      "+-----+-----+\n",
      "\n"
     ]
    }
   ],
   "source": [
    "# 无定义\n",
    "df= rdd1.toDF(['name','vaule'])\n",
    "df.show()"
   ]
  },
  {
   "cell_type": "code",
   "execution_count": 29,
   "id": "e31d3d98-7082-4fdc-a638-cf0d1d15234f",
   "metadata": {},
   "outputs": [
    {
     "name": "stdout",
     "output_type": "stream",
     "text": [
      "+-----+---+\n",
      "| name|age|\n",
      "+-----+---+\n",
      "|qiang| 43|\n",
      "|   ma|436|\n",
      "| guge|346|\n",
      "+-----+---+\n",
      "\n"
     ]
    }
   ],
   "source": [
    "# schema定义\n",
    "chema= StructType().add('name',StringType(),nullable=True).add('age',IntegerType(),nullable=False)\n",
    "df=rdd1.toDF(schema=schema)\n",
    "df.show()"
   ]
  }
 ],
 "metadata": {
  "kernelspec": {
   "display_name": "Python 3 (ipykernel)",
   "language": "python",
   "name": "python3"
  },
  "language_info": {
   "codemirror_mode": {
    "name": "ipython",
    "version": 3
   },
   "file_extension": ".py",
   "mimetype": "text/x-python",
   "name": "python",
   "nbconvert_exporter": "python",
   "pygments_lexer": "ipython3",
   "version": "3.9.7"
  }
 },
 "nbformat": 4,
 "nbformat_minor": 5
}
